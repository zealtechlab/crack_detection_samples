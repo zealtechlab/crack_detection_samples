{
  "nbformat": 4,
  "nbformat_minor": 0,
  "metadata": {
    "colab": {
      "name": "ExtractImages.ipynb",
      "provenance": [],
      "authorship_tag": "ABX9TyNdpmtfRCMsJdmmQbKFE3gw",
      "include_colab_link": true
    },
    "kernelspec": {
      "name": "python3",
      "display_name": "Python 3"
    }
  },
  "cells": [
    {
      "cell_type": "markdown",
      "metadata": {
        "id": "view-in-github",
        "colab_type": "text"
      },
      "source": [
        "<a href=\"https://colab.research.google.com/github/zealtechlab/crack_detection_samples-_new/blob/master/ExtractImages.ipynb\" target=\"_parent\"><img src=\"https://colab.research.google.com/assets/colab-badge.svg\" alt=\"Open In Colab\"/></a>"
      ]
    },
    {
      "cell_type": "code",
      "metadata": {
        "id": "Xl_O7n4F5Sun",
        "colab_type": "code",
        "colab": {
          "base_uri": "https://localhost:8080/",
          "height": 55
        },
        "outputId": "d1988877-c1a8-4037-f5d2-cfec9afe616a"
      },
      "source": [
        "!pip install PyPDF2"
      ],
      "execution_count": null,
      "outputs": [
        {
          "output_type": "stream",
          "text": [
            "Requirement already satisfied: PyPDF2 in /usr/local/lib/python3.6/dist-packages (1.26.0)\n"
          ],
          "name": "stdout"
        }
      ]
    },
    {
      "cell_type": "code",
      "metadata": {
        "id": "zkPQ9M107XYa",
        "colab_type": "code",
        "colab": {
          "base_uri": "https://localhost:8080/",
          "height": 1000
        },
        "outputId": "071c4550-0a35-4bf1-d48b-2fdeceb37242"
      },
      "source": [
        "!pip install fitz"
      ],
      "execution_count": null,
      "outputs": [
        {
          "output_type": "stream",
          "text": [
            "Collecting fitz\n",
            "  Downloading https://files.pythonhosted.org/packages/7e/28/27f27d66eb82f24e6595deb26c0a875e62431878c416e38eac515023abb2/fitz-0.0.1.dev2-py2.py3-none-any.whl\n",
            "Requirement already satisfied: httplib2 in /usr/local/lib/python3.6/dist-packages (from fitz) (0.17.4)\n",
            "Collecting pyxnat\n",
            "\u001b[?25l  Downloading https://files.pythonhosted.org/packages/f3/0d/71fd0329562a42ac00e64019552285d53b1c5063391a9b092bb6f4f32bd7/pyxnat-1.3.tar.gz (70kB)\n",
            "\u001b[K     |████████████████████████████████| 71kB 3.4MB/s \n",
            "\u001b[?25hRequirement already satisfied: nibabel in /usr/local/lib/python3.6/dist-packages (from fitz) (3.0.2)\n",
            "Requirement already satisfied: scipy in /usr/local/lib/python3.6/dist-packages (from fitz) (1.4.1)\n",
            "Collecting nipype\n",
            "\u001b[?25l  Downloading https://files.pythonhosted.org/packages/fe/d7/171ecdb1de3f7db535033e144d74735c8761c77bf17a0d1e62672bce08cc/nipype-1.5.0-py3-none-any.whl (3.1MB)\n",
            "\u001b[K     |████████████████████████████████| 3.1MB 8.9MB/s \n",
            "\u001b[?25hCollecting configobj\n",
            "  Downloading https://files.pythonhosted.org/packages/64/61/079eb60459c44929e684fa7d9e2fdca403f67d64dd9dbac27296be2e0fab/configobj-5.0.6.tar.gz\n",
            "Requirement already satisfied: numpy in /usr/local/lib/python3.6/dist-packages (from fitz) (1.18.5)\n",
            "Requirement already satisfied: pandas in /usr/local/lib/python3.6/dist-packages (from fitz) (1.0.5)\n",
            "Collecting configparser\n",
            "  Downloading https://files.pythonhosted.org/packages/4b/6b/01baa293090240cf0562cc5eccb69c6f5006282127f2b846fad011305c79/configparser-5.0.0-py3-none-any.whl\n",
            "Collecting lxml>=4.3\n",
            "\u001b[?25l  Downloading https://files.pythonhosted.org/packages/79/37/d420b7fdc9a550bd29b8cfeacff3b38502d9600b09d7dfae9a69e623b891/lxml-4.5.2-cp36-cp36m-manylinux1_x86_64.whl (5.5MB)\n",
            "\u001b[K     |████████████████████████████████| 5.5MB 42.0MB/s \n",
            "\u001b[?25hRequirement already satisfied: requests>=2.20 in /usr/local/lib/python3.6/dist-packages (from pyxnat->fitz) (2.23.0)\n",
            "Requirement already satisfied: rdflib>=5.0.0 in /usr/local/lib/python3.6/dist-packages (from nipype->fitz) (5.0.0)\n",
            "Collecting simplejson>=3.8.0\n",
            "\u001b[?25l  Downloading https://files.pythonhosted.org/packages/73/96/1e6b19045375890068d7342cbe280dd64ae73fd90b9735b5efb8d1e044a1/simplejson-3.17.2-cp36-cp36m-manylinux2010_x86_64.whl (127kB)\n",
            "\u001b[K     |████████████████████████████████| 133kB 47.0MB/s \n",
            "\u001b[?25hCollecting prov>=1.5.2\n",
            "\u001b[?25l  Downloading https://files.pythonhosted.org/packages/aa/f1/85f277cf15ce2fed6f189b220ff14d7b33b21cc7beb95ae48f1255672e74/prov-1.5.3-py2.py3-none-any.whl (423kB)\n",
            "\u001b[K     |████████████████████████████████| 430kB 46.3MB/s \n",
            "\u001b[?25hCollecting etelemetry>=0.2.0\n",
            "  Downloading https://files.pythonhosted.org/packages/50/fe/7b4a4d7bd2756884ba2af5445ac538bff20ca8e6c89e24b253cc51845f1b/etelemetry-0.2.1-py3-none-any.whl\n",
            "Requirement already satisfied: click>=6.6.0 in /usr/local/lib/python3.6/dist-packages (from nipype->fitz) (7.1.2)\n",
            "Requirement already satisfied: packaging in /usr/local/lib/python3.6/dist-packages (from nipype->fitz) (20.4)\n",
            "Collecting traits!=5.0,>=4.6\n",
            "\u001b[?25l  Downloading https://files.pythonhosted.org/packages/95/b4/a780c097a91c9407e5c86ca24a77d0f3d8fc2110a7df9f6d0be65d409fd8/traits-6.1.0.tar.gz (564kB)\n",
            "\u001b[K     |████████████████████████████████| 573kB 48.9MB/s \n",
            "\u001b[?25hRequirement already satisfied: pydotplus in /usr/local/lib/python3.6/dist-packages (from nipype->fitz) (2.0.2)\n",
            "Requirement already satisfied: python-dateutil>=2.2 in /usr/local/lib/python3.6/dist-packages (from nipype->fitz) (2.8.1)\n",
            "Requirement already satisfied: filelock>=3.0.0 in /usr/local/lib/python3.6/dist-packages (from nipype->fitz) (3.0.12)\n",
            "Requirement already satisfied: networkx>=1.9 in /usr/local/lib/python3.6/dist-packages (from nipype->fitz) (2.4)\n",
            "Requirement already satisfied: pydot>=1.2.3 in /usr/local/lib/python3.6/dist-packages (from nipype->fitz) (1.3.0)\n",
            "Requirement already satisfied: six in /usr/local/lib/python3.6/dist-packages (from configobj->fitz) (1.12.0)\n",
            "Requirement already satisfied: pytz>=2017.2 in /usr/local/lib/python3.6/dist-packages (from pandas->fitz) (2018.9)\n",
            "Requirement already satisfied: chardet<4,>=3.0.2 in /usr/local/lib/python3.6/dist-packages (from requests>=2.20->pyxnat->fitz) (3.0.4)\n",
            "Requirement already satisfied: idna<3,>=2.5 in /usr/local/lib/python3.6/dist-packages (from requests>=2.20->pyxnat->fitz) (2.10)\n",
            "Requirement already satisfied: certifi>=2017.4.17 in /usr/local/lib/python3.6/dist-packages (from requests>=2.20->pyxnat->fitz) (2020.6.20)\n",
            "Requirement already satisfied: urllib3!=1.25.0,!=1.25.1,<1.26,>=1.21.1 in /usr/local/lib/python3.6/dist-packages (from requests>=2.20->pyxnat->fitz) (1.24.3)\n",
            "Requirement already satisfied: pyparsing in /usr/local/lib/python3.6/dist-packages (from rdflib>=5.0.0->nipype->fitz) (2.4.7)\n",
            "Requirement already satisfied: isodate in /usr/local/lib/python3.6/dist-packages (from rdflib>=5.0.0->nipype->fitz) (0.6.0)\n",
            "Collecting ci-info>=0.2\n",
            "  Downloading https://files.pythonhosted.org/packages/cf/01/664a10490000d7154fa71358af87681696b8116a12d869a267063c470fbc/ci_info-0.2.0-py3-none-any.whl\n",
            "Requirement already satisfied: decorator>=4.3.0 in /usr/local/lib/python3.6/dist-packages (from networkx>=1.9->nipype->fitz) (4.4.2)\n",
            "Building wheels for collected packages: pyxnat, configobj, traits\n",
            "  Building wheel for pyxnat (setup.py) ... \u001b[?25l\u001b[?25hdone\n",
            "  Created wheel for pyxnat: filename=pyxnat-1.3-cp36-none-any.whl size=88337 sha256=6cca25330fda3e6b6137b91bb2fb0198403f11d4c23853b8649aa72e53d64490\n",
            "  Stored in directory: /root/.cache/pip/wheels/65/bb/9b/39ed8a8a3c3c720eed424953edab6df917212d2d82ea12dcf8\n",
            "  Building wheel for configobj (setup.py) ... \u001b[?25l\u001b[?25hdone\n",
            "  Created wheel for configobj: filename=configobj-5.0.6-cp36-none-any.whl size=34546 sha256=5705689d93af035a3fc8e17efa33e5557bea25f0b54e65afbf965a98ed5e6dd6\n",
            "  Stored in directory: /root/.cache/pip/wheels/f1/e4/16/4981ca97c2d65106b49861e0b35e2660695be7219a2d351ee0\n",
            "  Building wheel for traits (setup.py) ... \u001b[?25l\u001b[?25hdone\n",
            "  Created wheel for traits: filename=traits-6.1.0-cp36-cp36m-linux_x86_64.whl size=529102 sha256=e954633a867b1c668e7e8c44a11b05a742f1eb8e5067ad4985f22923b04258e4\n",
            "  Stored in directory: /root/.cache/pip/wheels/ec/c1/fb/ff98411c88e0703984fe6e52422164d56897bd6dd9b52b4c9b\n",
            "Successfully built pyxnat configobj traits\n",
            "Installing collected packages: lxml, pyxnat, simplejson, prov, ci-info, etelemetry, traits, nipype, configobj, configparser, fitz\n",
            "  Found existing installation: lxml 4.2.6\n",
            "    Uninstalling lxml-4.2.6:\n",
            "      Successfully uninstalled lxml-4.2.6\n",
            "Successfully installed ci-info-0.2.0 configobj-5.0.6 configparser-5.0.0 etelemetry-0.2.1 fitz-0.0.1.dev2 lxml-4.5.2 nipype-1.5.0 prov-1.5.3 pyxnat-1.3 simplejson-3.17.2 traits-6.1.0\n"
          ],
          "name": "stdout"
        },
        {
          "output_type": "display_data",
          "data": {
            "application/vnd.colab-display-data+json": {
              "pip_warning": {
                "packages": [
                  "lxml"
                ]
              }
            }
          },
          "metadata": {
            "tags": []
          }
        }
      ]
    },
    {
      "cell_type": "code",
      "metadata": {
        "id": "odg_L1QClWKL",
        "colab_type": "code",
        "colab": {
          "base_uri": "https://localhost:8080/",
          "height": 129
        },
        "outputId": "cf2544fb-6133-4057-994a-1b289f9ae7cb"
      },
      "source": [
        "!pip install PyMuPDF"
      ],
      "execution_count": null,
      "outputs": [
        {
          "output_type": "stream",
          "text": [
            "Collecting PyMuPDF\n",
            "\u001b[?25l  Downloading https://files.pythonhosted.org/packages/fd/35/2a0ba6cc4629714d48c5c5e5fc60eab4383fe9d4c3b4aed11ebcba8ca84b/PyMuPDF-1.17.3-cp36-cp36m-manylinux2010_x86_64.whl (6.0MB)\n",
            "\u001b[K     |████████████████████████████████| 6.0MB 2.3MB/s \n",
            "\u001b[?25hInstalling collected packages: PyMuPDF\n",
            "Successfully installed PyMuPDF-1.17.3\n"
          ],
          "name": "stdout"
        }
      ]
    },
    {
      "cell_type": "code",
      "metadata": {
        "id": "iu4G8Uiy5_tz",
        "colab_type": "code",
        "colab": {
          "base_uri": "https://localhost:8080/",
          "height": 623
        },
        "outputId": "e83d45e7-ebc1-48d4-99ad-7f21a2032861"
      },
      "source": [
        "import fitz\n",
        "doc = fitz.open(\"/content/Dry_Box_PANEL_Cuts/Dry_Box_PANEL_Cuts.pdf\")\n",
        "for i in range(len(doc)):\n",
        "    for img in doc.getPageImageList(i):\n",
        "        xref = img[0]\n",
        "        print(xref)\n",
        "        pix = fitz.Pixmap(doc, xref)\n",
        "        if pix.n < 5:       # this is GRAY or RGB\n",
        "            pix.writePNG(\"p%s-%s.png\" % (i, xref))\n",
        "        else:               # CMYK: convert to RGB first\n",
        "            pix1 = fitz.Pixmap(fitz.csRGB, pix)\n",
        "            pix1.writePNG(\"p%s-%s.png\" % (i, xref))\n",
        "            pix1 = None\n",
        "        pix = None"
      ],
      "execution_count": null,
      "outputs": [
        {
          "output_type": "stream",
          "text": [
            "82\n",
            "82\n",
            "3\n",
            "4\n",
            "82\n",
            "8\n",
            "9\n",
            "82\n",
            "13\n",
            "82\n",
            "17\n",
            "18\n",
            "82\n",
            "22\n",
            "23\n",
            "82\n",
            "27\n",
            "28\n",
            "82\n",
            "32\n",
            "33\n",
            "82\n",
            "37\n",
            "38\n",
            "82\n",
            "42\n",
            "43\n",
            "82\n",
            "47\n",
            "48\n",
            "82\n",
            "52\n",
            "53\n"
          ],
          "name": "stdout"
        }
      ]
    },
    {
      "cell_type": "code",
      "metadata": {
        "id": "aYoJrlVGqcCz",
        "colab_type": "code",
        "colab": {}
      },
      "source": [
        ""
      ],
      "execution_count": null,
      "outputs": []
    }
  ]
}